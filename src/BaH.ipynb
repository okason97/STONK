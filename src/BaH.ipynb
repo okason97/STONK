{
 "cells": [
  {
   "cell_type": "code",
   "execution_count": 1,
   "metadata": {},
   "outputs": [],
   "source": [
    "import sys\n",
    "if not './' in sys.path:\n",
    "    sys.path.append('./')"
   ]
  },
  {
   "cell_type": "code",
   "execution_count": 2,
   "metadata": {},
   "outputs": [],
   "source": [
    "import pandas as pd\n",
    "import numpy as np\n",
    "import io\n",
    "import os\n",
    "from datetime import datetime\n",
    "from sklearn import preprocessing\n",
    "from sklearn.model_selection import train_test_split\n",
    "\n",
    "from envs.stocks_env_multiaction import Stocks_env\n",
    "from datasets import nyse\n",
    "import tensorflow as tf\n",
    "\n",
    "from IPython.display import clear_output\n",
    "import matplotlib.pyplot as plt\n",
    "%matplotlib inline"
   ]
  },
  {
   "cell_type": "code",
   "execution_count": 3,
   "metadata": {},
   "outputs": [],
   "source": [
    "#data = nyse.load_data('../data/')\n",
    "data, _, _ = nyse.load_data_with_industry('../data/')"
   ]
  },
  {
   "cell_type": "code",
   "execution_count": 4,
   "metadata": {},
   "outputs": [],
   "source": [
    "# Hyper params:\n",
    "seed             = 42\n",
    "batch_size       = 256\n",
    "\n",
    "# log\n",
    "save_directory = 'results/bah/'\n",
    "date = datetime.now().strftime(\"%Y_%m_%d-%H:%M:%S\")\n",
    "identifier = \"bah-\" + date"
   ]
  },
  {
   "cell_type": "code",
   "execution_count": 5,
   "metadata": {},
   "outputs": [],
   "source": [
    "window_size = 1\n",
    "run_lenght = 10\n",
    "initial_money = 100\n",
    "train_test_ratio = 0.2\n",
    "env = Stocks_env(data, window_size, run_lenght, batch_size=batch_size, train_test_ratio = train_test_ratio,\n",
    "                 test_seed=seed, initial_money=initial_money)\n",
    "batch_size  = len(env.get_test_symbols())"
   ]
  },
  {
   "cell_type": "code",
   "execution_count": 6,
   "metadata": {},
   "outputs": [],
   "source": [
    "def test_env(record_days=False):\n",
    "    env.reset(training=False, batch_size=batch_size, run_lenght=run_lenght, initial_money=initial_money)\n",
    "    done = False\n",
    "    operation_array = []\n",
    "    days_array = []\n",
    "    rewards_array = []\n",
    "    total_profit = np.zeros(batch_size)\n",
    "    while not done:\n",
    "        actions = [[1,0]]*batch_size\n",
    "        _, reward, done, operations, day, profit = env.step(actions)\n",
    "        if record_days:\n",
    "            operation_array.append(np.array(operations))\n",
    "            days_array.append(np.array(day))\n",
    "            rewards_array.append(np.array(reward))\n",
    "        mean_test_reward(np.array(reward))\n",
    "        total_profit += profit\n",
    "    total_profit = total_profit/initial_money\n",
    "    return operation_array, days_array, rewards_array, total_profit"
   ]
  },
  {
   "cell_type": "code",
   "execution_count": 8,
   "metadata": {
    "scrolled": true
   },
   "outputs": [
    {
     "name": "stdout",
     "output_type": "stream",
     "text": [
      "0: -0.0001492032599007476\n",
      "1: -0.004973678941175092\n",
      "2: -0.0015641374246647018\n",
      "3: 0.00975324996893991\n",
      "4: 0.0055536838600527836\n",
      "5: 0.010784616390497902\n",
      "6: 0.004133763282035133\n",
      "7: 0.004963154364624164\n",
      "8: 0.005113413642148282\n",
      "9: 0.007004089951708279\n",
      "10: 0.007410930491010144\n",
      "11: 0.007416573163612946\n",
      "12: 0.007827362547468618\n",
      "13: 0.007221430360842185\n",
      "14: 0.008835309023044136\n",
      "15: 0.008476553176981799\n",
      "16: 0.007733371263268878\n",
      "17: 0.008019615386011454\n",
      "18: 0.00903606559036222\n",
      "19: 0.009186144522256216\n",
      "20: 0.008627522689395945\n",
      "21: 0.007662848775040835\n",
      "22: 0.007940598921823463\n",
      "23: 0.007839522433063848\n",
      "24: 0.009734756384191056\n",
      "25: 0.01077975316953718\n",
      "26: 0.010443399710336193\n",
      "27: 0.010686514315284841\n",
      "28: 0.011051406499508079\n",
      "29: 0.011135541684639438\n",
      "30: 0.010836673824837346\n",
      "31: 0.01036345988564249\n",
      "32: 0.009953497908673198\n",
      "33: 0.010725576546664237\n",
      "34: 0.010277095266484078\n",
      "35: 0.010323046797473097\n",
      "36: 0.01071649026873508\n",
      "37: 0.010717941338948728\n",
      "38: 0.01067478277739096\n",
      "39: 0.010696601884490637\n",
      "40: 0.010470250959136571\n",
      "41: 0.010604551702920626\n",
      "42: 0.011001357325708477\n",
      "43: 0.011417734077154545\n",
      "44: 0.011586395725480186\n",
      "45: 0.011611500638946733\n",
      "46: 0.011712324330399572\n",
      "47: 0.011639872144174364\n",
      "48: 0.0121691849587375\n",
      "49: 0.012158526622359262\n",
      "50: 0.012160630356687638\n",
      "51: 0.011910018338326155\n",
      "52: 0.011782476654307173\n",
      "53: 0.011986065927330142\n",
      "54: 0.012502247656932811\n",
      "55: 0.01204508878927648\n",
      "56: 0.01209291389784258\n",
      "57: 0.01211832550294614\n",
      "58: 0.012403142773181653\n",
      "59: 0.012298853228268907\n",
      "60: 0.012099773517027573\n",
      "61: 0.012124943352791198\n",
      "62: 0.012255544489174701\n",
      "63: 0.01219433286574739\n",
      "64: 0.011859968395415303\n",
      "65: 0.011555566076226709\n",
      "66: 0.011489969134916525\n",
      "67: 0.011585960745934066\n",
      "68: 0.011553493297995257\n",
      "69: 0.011026025968435714\n",
      "70: 0.0108017139817668\n",
      "71: 0.0104927504836777\n",
      "72: 0.010412002556983815\n",
      "73: 0.010629094898336995\n",
      "74: 0.010784892250979864\n",
      "75: 0.011141021459871643\n",
      "76: 0.011026949921337048\n",
      "77: 0.010748343485489245\n",
      "78: 0.010589206724707558\n",
      "79: 0.010740790015694066\n",
      "80: 0.010646580843341306\n",
      "81: 0.010619301409971806\n",
      "82: 0.010577097521703192\n",
      "83: 0.010328226606540022\n",
      "84: 0.010485610463284568\n",
      "85: 0.010309557152573208\n",
      "86: 0.010513514905268712\n",
      "87: 0.010413298169338779\n",
      "88: 0.010372889281587968\n",
      "89: 0.010160119647387878\n",
      "90: 0.010060283771480947\n",
      "91: 0.010137060030931585\n",
      "92: 0.01033666298346548\n",
      "93: 0.010277900502423883\n",
      "94: 0.010489254561179015\n",
      "95: 0.010529458630054053\n",
      "96: 0.010571813223170155\n",
      "97: 0.011058625271826486\n",
      "98: 0.010906900946782852\n",
      "99: 0.010944322504925968\n"
     ]
    }
   ],
   "source": [
    "save_directory = 'results/test-all/'\n",
    "test_summary_writer = tf.summary.create_file_writer('results/summaries/test/' + identifier)\n",
    "mean_test_reward = tf.keras.metrics.Mean(name='mean_test_reward')\n",
    "\n",
    "repeat = 100\n",
    "\n",
    "test_total_profits = []\n",
    "\n",
    "for i in range(repeat):\n",
    "\n",
    "    operation_array, days_array, rewards_array, test_total_profit = test_env(record_days=True)\n",
    "    test_total_profits.append(test_total_profit)\n",
    "\n",
    "    with test_summary_writer.as_default():\n",
    "        tf.summary.scalar('mean_test_reward', mean_test_reward.result(), step=i)\n",
    "\n",
    "    # serialize weights to HDF5\n",
    "    if not os.path.exists(save_directory):\n",
    "        os.makedirs(save_directory)\n",
    "    if not os.path.exists(save_directory+'operations/'):\n",
    "        os.makedirs(save_directory+'operations/')\n",
    "    if not os.path.exists(save_directory+'endingdays/'):\n",
    "        os.makedirs(save_directory+'endingdays/')\n",
    "    if not os.path.exists(save_directory+'rewards/'):\n",
    "        os.makedirs(save_directory+'rewards/')\n",
    "    if not os.path.exists(save_directory+'profits/'):\n",
    "        os.makedirs(save_directory+'profits/')\n",
    "    pd.DataFrame(operation_array).to_csv(save_directory+\"operations/{}-iteration{}.csv\".format(identifier, i), \n",
    "                                         header=env.get_current_symbols(), index=None)\n",
    "    pd.DataFrame(days_array).to_csv(save_directory+\"endingdays/{}-iteration{}.csv\".format(identifier, i), \n",
    "                                         header=env.get_current_symbols(), index=None)\n",
    "    pd.DataFrame(rewards_array).to_csv(save_directory+\"rewards/{}-iteration{}.csv\".format(identifier, i), \n",
    "                                         header=env.get_current_symbols(), index=None)\n",
    "    pd.DataFrame(test_total_profits).to_csv(save_directory+\"profits/{}.csv\".format(identifier),\n",
    "                                            index=None)\n",
    "    mean_test_reward.reset_states()\n",
    "    print(\"{}: {}\".format(i, np.mean(test_total_profits)/run_lenght*30))"
   ]
  },
  {
   "cell_type": "code",
   "execution_count": 13,
   "metadata": {
    "scrolled": true
   },
   "outputs": [
    {
     "data": {
      "text/plain": [
       "0.018753545661428575"
      ]
     },
     "execution_count": 13,
     "metadata": {},
     "output_type": "execute_result"
    }
   ],
   "source": [
    "np.var(np.array(test_total_profits)/run_lenght*30)"
   ]
  }
 ],
 "metadata": {
  "kernelspec": {
   "display_name": "Python 3",
   "language": "python",
   "name": "python3"
  },
  "language_info": {
   "codemirror_mode": {
    "name": "ipython",
    "version": 3
   },
   "file_extension": ".py",
   "mimetype": "text/x-python",
   "name": "python",
   "nbconvert_exporter": "python",
   "pygments_lexer": "ipython3",
   "version": "3.6.9"
  }
 },
 "nbformat": 4,
 "nbformat_minor": 2
}
