{
 "cells": [
  {
   "cell_type": "code",
   "execution_count": 1,
   "metadata": {},
   "outputs": [],
   "source": [
    "import sys\n",
    "if not './' in sys.path:\n",
    "    sys.path.append('./')"
   ]
  },
  {
   "cell_type": "code",
   "execution_count": 2,
   "metadata": {},
   "outputs": [],
   "source": [
    "import tensorflow as tf\n",
    "\n",
    "# from tensorflow.keras.mixed_precision import experimental as mixed_precision\n",
    "import pandas as pd\n",
    "import numpy as np\n",
    "import io\n",
    "import os\n",
    "from datetime import datetime\n",
    "\n",
    "from envs.stocks_env import Stocks_env\n",
    "from datasets import nyse\n",
    "from models.lstm_selfattention_embedding import ActorCritic\n",
    "\n",
    "from IPython.display import clear_output\n",
    "import matplotlib.pyplot as plt\n",
    "%matplotlib inline"
   ]
  },
  {
   "cell_type": "markdown",
   "metadata": {},
   "source": [
    "<h2>Use GPU</h2>"
   ]
  },
  {
   "cell_type": "code",
   "execution_count": 3,
   "metadata": {},
   "outputs": [
    {
     "name": "stdout",
     "output_type": "stream",
     "text": [
      "1 Physical GPUs, 1 Logical GPUs\n",
      "[LogicalDevice(name='/device:GPU:0', device_type='GPU')]\n",
      "WARNING:tensorflow:From <ipython-input-3-94fe1c854373>:14: is_gpu_available (from tensorflow.python.framework.test_util) is deprecated and will be removed in a future version.\n",
      "Instructions for updating:\n",
      "Use `tf.config.list_physical_devices('GPU')` instead.\n"
     ]
    },
    {
     "data": {
      "text/plain": [
       "True"
      ]
     },
     "execution_count": 3,
     "metadata": {},
     "output_type": "execute_result"
    }
   ],
   "source": [
    "gpus = tf.config.experimental.list_physical_devices('GPU')\n",
    "if gpus:\n",
    "    try:\n",
    "        # Currently, memory growth needs to be the same across GPUs\n",
    "        for gpu in gpus:\n",
    "              tf.config.experimental.set_memory_growth(gpu, True)\n",
    "        logical_gpus = tf.config.experimental.list_logical_devices('GPU')\n",
    "        print(len(gpus), \"Physical GPUs,\", len(logical_gpus), \"Logical GPUs\")\n",
    "    except RuntimeError as e:\n",
    "        # Memory growth must be set before GPUs have been initialized\n",
    "        print(e)\n",
    "        \n",
    "print(tf.config.experimental.list_logical_devices('GPU'))\n",
    "tf.test.is_gpu_available()\n",
    "\n",
    "# set up policy used in mixed precision\n",
    "# from tensorflow.keras.mixed_precision import experimental as mixed_precision\n",
    "# policy = mixed_precision.Policy('mixed_float16')\n",
    "# mixed_precision.set_policy(policy)"
   ]
  },
  {
   "cell_type": "markdown",
   "metadata": {},
   "source": [
    "<h2>Load Data</h2>"
   ]
  },
  {
   "cell_type": "code",
   "execution_count": 4,
   "metadata": {},
   "outputs": [],
   "source": [
    "#data = nyse.load_data('../data/')\n",
    "data, tokenized_industry, vocabulary_size = nyse.load_data_with_industry('../data/')"
   ]
  },
  {
   "cell_type": "markdown",
   "metadata": {},
   "source": [
    "<h2>GAE and PPO</h2>"
   ]
  },
  {
   "cell_type": "code",
   "execution_count": 5,
   "metadata": {},
   "outputs": [],
   "source": [
    "def compute_gae(next_value, rewards, masks, values, gamma=0.99, tau=0.95):\n",
    "    values = values + [next_value]\n",
    "    gae = 0\n",
    "    returns = []\n",
    "    for step in reversed(range(len(rewards))):        \n",
    "        delta = rewards[step] + gamma * values[step + 1] * masks[step] - values[step]\n",
    "        gae = delta + gamma * tau * masks[step] * gae\n",
    "        returns.insert(0, gae + values[step])\n",
    "    return returns"
   ]
  },
  {
   "cell_type": "code",
   "execution_count": 6,
   "metadata": {},
   "outputs": [],
   "source": [
    "def ppo_iter(mini_batch_size, states_daily, states_industry, actions, log_probs, returns, advantage):\n",
    "    batch_size = tf.shape(states_daily)[0]\n",
    "    for _ in range(batch_size // mini_batch_size):\n",
    "        rand_ids = np.random.randint(0, batch_size, mini_batch_size)\n",
    "        yield states_daily.numpy()[rand_ids, :], np.array(states_industry)[rand_ids, :], actions.numpy()[rand_ids, :], log_probs.numpy()[rand_ids, :], returns.numpy()[rand_ids, :], advantage.numpy()[rand_ids, :]\n",
    "\n",
    "def ppo_update(ppo_epochs, mini_batch_size, states_daily, states_industry, actions, log_probs, returns, advantages, clip_param=0.2):\n",
    "    for _ in range(ppo_epochs):\n",
    "        for state_daily, state_industry, action, old_log_probs, return_, advantage in ppo_iter(mini_batch_size, states_daily, states_industry, actions, log_probs, returns, advantages):\n",
    "            with tf.GradientTape() as tape:\n",
    "                # value, dist = model(state, np.reshape(state[:,-1,:],(batch_size, 1, num_inputs[1])))\n",
    "                value, dist = model(state_daily, state_industry)\n",
    "                        \n",
    "                entropy = tf.math.reduce_mean(dist.entropy())\n",
    "                new_log_probs = dist.log_prob(action)\n",
    "\n",
    "                ratio = tf.math.exp(new_log_probs - old_log_probs)\n",
    "                surr1 = ratio * advantage\n",
    "                surr2 = tf.clip_by_value(ratio, clip_value_min=1.0 - clip_param, \n",
    "                                         clip_value_max=1.0 + clip_param) * advantage\n",
    "\n",
    "                actor_loss  = - tf.math.reduce_mean(tf.math.minimum(surr1, surr2))\n",
    "                critic_loss = tf.math.reduce_mean(tf.math.pow(return_ - value, 2))\n",
    "\n",
    "                loss = 0.5 * critic_loss + actor_loss - 0.001 * entropy\n",
    "                \n",
    "            gradients = tape.gradient(loss, model.trainable_variables)\n",
    "            optimizer.apply_gradients(zip(gradients, model.trainable_variables))"
   ]
  },
  {
   "cell_type": "markdown",
   "metadata": {},
   "source": [
    "<h2>Training Parameters</h2>"
   ]
  },
  {
   "cell_type": "code",
   "execution_count": 7,
   "metadata": {},
   "outputs": [],
   "source": [
    "# Hyper params:\n",
    "lr               = 3e-4\n",
    "run_lenght       = 7\n",
    "batch_size       = 256\n",
    "window_size      = 14\n",
    "ppo_epochs       = 4\n",
    "num_epochs       = 400\n",
    "test_iterations  = 1\n",
    "threshold_reward = 400\n",
    "hidden_dim       = 256\n",
    "num_filters      = 64\n",
    "lstm_units       = 512\n",
    "num_blocks       = 2\n",
    "embedding_out    = 6\n",
    "in_lstm_units    = 16\n",
    "\n",
    "# log\n",
    "log_freq = 4\n",
    "models_directory = 'results/models/'\n",
    "save_directory = 'results/saved-timesteps/'\n",
    "date = datetime.now().strftime(\"%Y_%m_%d-%H:%M:%S\")\n",
    "identifier = \"stonks-\" + date\n",
    "test_summary_writer = tf.summary.create_file_writer('results/summaries/test/' + identifier)\n",
    "mean_test_reward = tf.keras.metrics.Mean(name='mean_test_reward')\n",
    "mean_train_reward = tf.keras.metrics.Mean(name='mean_train_reward')\n",
    "mean_test_daily_change = tf.keras.metrics.Mean(name='mean_test_daily_change')"
   ]
  },
  {
   "cell_type": "markdown",
   "metadata": {},
   "source": [
    "<h2>Create Enviroment</h2>"
   ]
  },
  {
   "cell_type": "code",
   "execution_count": 8,
   "metadata": {},
   "outputs": [],
   "source": [
    "# initialize env\n",
    "env = Stocks_env(data, batch_size, window_size, run_lenght, clip=True, \n",
    "                 tokenized_industry=tokenized_industry, test_seed = None)\n",
    "test_batch_size  = len(env.get_test_symbols())\n",
    "# test_batch_size  = batch_size\n",
    "num_inputs  = env.get_observation_space()\n",
    "num_policies = env.get_action_space()"
   ]
  },
  {
   "cell_type": "markdown",
   "metadata": {},
   "source": [
    "<h2>Create Model</h2>"
   ]
  },
  {
   "cell_type": "code",
   "execution_count": 9,
   "metadata": {},
   "outputs": [],
   "source": [
    "# initialize the model\n",
    "model = ActorCritic(num_policies = num_policies, hidden_dim=hidden_dim, num_filters=num_filters, \n",
    "                    lstm_units=lstm_units, text_lenght=tokenized_industry.shape[1], \n",
    "                    vocabulary_size=vocabulary_size, embedding_out=embedding_out, in_lstm_units = in_lstm_units)\n",
    "optimizer = tf.keras.optimizers.Adam(lr)\n",
    "# state = env.reset(trader_happiness=0)\n",
    "# model(state)\n",
    "# model.load_weights('results/models/best-stonks-2020_09_20-08:08:45.h5')"
   ]
  },
  {
   "cell_type": "markdown",
   "metadata": {},
   "source": [
    "<h2>Train</h2>"
   ]
  },
  {
   "cell_type": "code",
   "execution_count": 10,
   "metadata": {},
   "outputs": [],
   "source": [
    "def plot(epochs, rewards_train, rewards_test, test_daily_change):\n",
    "    clear_output(True)\n",
    "    fig, (ax1, ax2) = plt.subplots(1, 2, figsize=(20,5))\n",
    "    fig.suptitle('frame %s. ' % epochs[-1])\n",
    "    ax1.set_title('train. reward: %s' % rewards_train[-1])\n",
    "    ax1.plot(epochs, rewards_train)\n",
    "    ax2.set_title('test. reward: %s, maximum reward: %s' % (rewards_test[-1], test_daily_change.numpy()))\n",
    "    ax2.plot(epochs, rewards_test)\n",
    "    buf = io.BytesIO()\n",
    "    plt.savefig(buf, format='png')\n",
    "    buf.seek(0)\n",
    "    image = tf.image.decode_png(buf.getvalue(), channels=4)\n",
    "    image = tf.expand_dims(image, 0)\n",
    "    plt.show()\n",
    "    return image\n",
    "\n",
    "def test_env(record_days=False):\n",
    "    state = env.reset(training=False, batch_size=test_batch_size)\n",
    "    done = False\n",
    "    operation_array = []\n",
    "    days_array = []\n",
    "    while not done:\n",
    "        # _, dist = model(state, np.reshape(state[:,-1,:],(test_batch_size, 1, num_inputs[1])))\n",
    "        _, dist = model(state[0], state[1])\n",
    "        next_state, reward, done, operations, day, daily_change = env.step(dist.sample())\n",
    "        state = next_state\n",
    "        if record_days:\n",
    "            operation_array.append(operations)\n",
    "            days_array.append(day)\n",
    "        mean_test_reward(reward)\n",
    "        mean_test_daily_change(daily_change)\n",
    "    return operation_array, days_array"
   ]
  },
  {
   "cell_type": "code",
   "execution_count": null,
   "metadata": {
    "scrolled": false
   },
   "outputs": [
    {
     "data": {
      "image/png": "[encoded data removed]",
      "text/plain": [
       "<Figure size 1440x360 with 2 Axes>"
      ]
     },
     "metadata": {
      "needs_background": "light"
     },
     "output_type": "display_data"
    }
   ],
   "source": [
    "max_reward = 0\n",
    "train_rewards = []\n",
    "test_rewards = []\n",
    "test_daily_changes = []\n",
    "epoch  = 0\n",
    "epochs = []\n",
    "\n",
    "while epoch < num_epochs:\n",
    "\n",
    "    log_probs = []\n",
    "    values    = []\n",
    "    states_daily = []\n",
    "    states_industry = []\n",
    "    actions   = []\n",
    "    rewards   = []\n",
    "    masks     = []\n",
    "\n",
    "    state = env.reset(training=True, batch_size=batch_size)\n",
    "\n",
    "    done = False\n",
    "    while not done:\n",
    "        value, dist = model(state[0], state[1])\n",
    "\n",
    "        action = dist.sample()\n",
    "        next_state, reward, done, _, _, _ = env.step(action)\n",
    "        mean_train_reward(reward)\n",
    "\n",
    "        log_prob = dist.log_prob(action)\n",
    "\n",
    "        log_probs.append(log_prob)\n",
    "        values.append(value)\n",
    "        rewards.append(tf.dtypes.cast(tf.expand_dims((reward,), axis=1), tf.float32))\n",
    "        masks.append(tf.expand_dims((float(1 - done),), axis=1))\n",
    "\n",
    "        states_daily.append(state[0])\n",
    "        states_industry.append(state[1])\n",
    "        actions.append(action)\n",
    "\n",
    "        state = next_state\n",
    "\n",
    "    # next_value, _ = model(next_state, np.reshape(next_state[:,-1,:],(batch_size, 1, num_inputs[1])))\n",
    "    next_value, _ = model(next_state[0], next_state[1])\n",
    "    returns = compute_gae(next_value, rewards, masks, values)\n",
    "\n",
    "    returns_save = returns\n",
    "\n",
    "    returns   = tf.reshape(tf.concat(returns, axis=1),(run_lenght*batch_size,1))\n",
    "    log_probs = tf.concat(log_probs, axis=0)\n",
    "    values    = tf.concat(values, axis=0)\n",
    "    states_daily    = tf.concat(states_daily, axis=0)    \n",
    "    states_industry = tf.reshape(states_industry,(run_lenght*batch_size,-1))\n",
    "    actions   = tf.reshape(tf.concat(actions, axis=0),(run_lenght*batch_size,1))\n",
    "\n",
    "    advantage = returns - values\n",
    "    advantage = tf.reshape(advantage,(run_lenght*batch_size,1))\n",
    "    \n",
    "    ppo_update(ppo_epochs, batch_size, states_daily, states_industry, actions, log_probs, returns, advantage)\n",
    "\n",
    "    if epoch % log_freq == 0:\n",
    "        for i in range(test_iterations):\n",
    "            operation_array, days_array = test_env(record_days=(i==test_iterations-1))\n",
    "        train_rewards.append(mean_train_reward.result().numpy())\n",
    "        test_rewards.append(mean_test_reward.result().numpy())\n",
    "        epochs.append(epoch)\n",
    "        with test_summary_writer.as_default():\n",
    "            tf.summary.scalar('mean_test_reward', mean_test_reward.result(), step=epoch)\n",
    "            tf.summary.scalar('mean_train_reward', mean_train_reward.result(), step=epoch)\n",
    "            tf.summary.image('Plot', plot(epochs, train_rewards, test_rewards, mean_test_daily_change.result()), step=epoch)\n",
    "        if (mean_test_reward.result() > max_reward):\n",
    "            # serialize weights to HDF5\n",
    "            if not os.path.exists(save_directory):\n",
    "                os.makedirs(save_directory)\n",
    "            pd.DataFrame(operation_array).to_csv(save_directory+\"{}-operation-epoch{}.csv\".format(identifier, epoch), \n",
    "                                                 header=env.get_current_symbols(), index=None)\n",
    "            pd.DataFrame(days_array).to_csv(save_directory+\"{}-endingday-epoch{}.csv\".format(identifier, epoch), \n",
    "                                                 header=env.get_current_symbols(), index=None)\n",
    "            if not os.path.exists(models_directory):\n",
    "                os.makedirs(models_directory)\n",
    "            model.save_weights(models_directory + \"best-{}.h5\".format(identifier))\n",
    "            max_reward = mean_test_reward.result()\n",
    "        mean_test_reward.reset_states()\n",
    "        mean_test_daily_change.reset_states()\n",
    "    mean_train_reward.reset_states()\n",
    "    epoch += 1"
   ]
  }
 ],
 "metadata": {
  "kernelspec": {
   "display_name": "Python 3",
   "language": "python",
   "name": "python3"
  },
  "language_info": {
   "codemirror_mode": {
    "name": "ipython",
    "version": 3
   },
   "file_extension": ".py",
   "mimetype": "text/x-python",
   "name": "python",
   "nbconvert_exporter": "python",
   "pygments_lexer": "ipython3",
   "version": "3.6.9"
  }
 },
 "nbformat": 4,
 "nbformat_minor": 2
}
